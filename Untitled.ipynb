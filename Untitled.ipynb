{
 "cells": [
  {
   "cell_type": "code",
   "execution_count": 1,
   "metadata": {},
   "outputs": [],
   "source": [
    "import nltk"
   ]
  },
  {
   "cell_type": "code",
   "execution_count": 3,
   "metadata": {},
   "outputs": [
    {
     "name": "stdout",
     "output_type": "stream",
     "text": [
      "(S\n",
      "  (NP the/DT little/JJ yellow/JJ dog/NN)\n",
      "  barked/VBD\n",
      "  at/IN\n",
      "  (NP the/DT cat/NN))\n"
     ]
    }
   ],
   "source": [
    "sentence = [(\"the\", \"DT\"), (\"little\", \"JJ\"), (\"yellow\", \"JJ\"),(\"dog\", \"NN\"), (\"barked\", \"VBD\"), (\"at\", \"IN\"),  (\"the\", \"DT\"), (\"cat\", \"NN\")]\n",
    "grammar = \"NP: {<DT>?<JJ>*<NN>}\"\n",
    "c = nltk.RegexpParser(grammar)\n",
    "result = c.parse(sentence)\n",
    "print(result)"
   ]
  },
  {
   "cell_type": "code",
   "execution_count": 4,
   "metadata": {},
   "outputs": [],
   "source": [
    "result.draw()"
   ]
  },
  {
   "cell_type": "code",
   "execution_count": 14,
   "metadata": {},
   "outputs": [],
   "source": [
    "sushan = \"Four score and seven years ago our fathers brought forth on this continent, a new nation, conceived in Liberty, and dedicated to the proposition that all men are created equal.\""
   ]
  },
  {
   "cell_type": "code",
   "execution_count": 45,
   "metadata": {},
   "outputs": [],
   "source": [
    "def preprocess(document):\n",
    "    sentences = nltk.sent_tokenize(document)\n",
    "    sentences = [nltk.word_tokenize(sent) for sent in sentences]\n",
    "    sentences = [nltk.pos_tag(sent) for sent in sentences]\n",
    "    return sentences"
   ]
  },
  {
   "cell_type": "code",
   "execution_count": 46,
   "metadata": {},
   "outputs": [
    {
     "data": {
      "text/plain": [
       "[[('Four', 'CD'),\n",
       "  ('score', 'NN'),\n",
       "  ('and', 'CC'),\n",
       "  ('seven', 'CD'),\n",
       "  ('years', 'NNS'),\n",
       "  ('ago', 'RB'),\n",
       "  ('our', 'PRP$'),\n",
       "  ('fathers', 'NNS'),\n",
       "  ('brought', 'VBN'),\n",
       "  ('forth', 'RB'),\n",
       "  ('on', 'IN'),\n",
       "  ('this', 'DT'),\n",
       "  ('continent', 'NN'),\n",
       "  (',', ','),\n",
       "  ('a', 'DT'),\n",
       "  ('new', 'JJ'),\n",
       "  ('nation', 'NN'),\n",
       "  (',', ','),\n",
       "  ('conceived', 'VBN'),\n",
       "  ('in', 'IN'),\n",
       "  ('Liberty', 'NNP'),\n",
       "  (',', ','),\n",
       "  ('and', 'CC'),\n",
       "  ('dedicated', 'VBD'),\n",
       "  ('to', 'TO'),\n",
       "  ('the', 'DT'),\n",
       "  ('proposition', 'NN'),\n",
       "  ('that', 'IN'),\n",
       "  ('all', 'DT'),\n",
       "  ('men', 'NNS'),\n",
       "  ('are', 'VBP'),\n",
       "  ('created', 'VBN'),\n",
       "  ('equal', 'JJ'),\n",
       "  ('.', '.')]]"
      ]
     },
     "execution_count": 46,
     "metadata": {},
     "output_type": "execute_result"
    }
   ],
   "source": [
    "sushan_pre = preprocess(sushan)\n",
    "sushan_pre"
   ]
  },
  {
   "cell_type": "code",
   "execution_count": 47,
   "metadata": {},
   "outputs": [
    {
     "name": "stdout",
     "output_type": "stream",
     "text": [
      "[('Four', 'CD'), ('score', 'NN'), ('and', 'CC'), ('seven', 'CD'), ('years', 'NNS'), ('ago', 'RB'), ('our', 'PRP$'), ('fathers', 'NNS'), ('brought', 'VBN'), ('forth', 'RB'), ('on', 'IN'), ('this', 'DT'), ('continent', 'NN'), ('a', 'DT'), ('new', 'JJ'), ('nation', 'NN'), ('conceived', 'VBN'), ('in', 'IN'), ('Liberty', 'NNP'), ('and', 'CC'), ('dedicated', 'VBD'), ('to', 'TO'), ('the', 'DT'), ('proposition', 'NN'), ('that', 'IN'), ('all', 'DT'), ('men', 'NNS'), ('are', 'VBP'), ('created', 'VBN'), ('equal', 'JJ'), ('Four', 'CD'), ('score', 'NN'), ('and', 'CC'), ('seven', 'CD'), ('years', 'NNS'), ('ago', 'RB'), ('our', 'PRP$'), ('fathers', 'NNS'), ('brought', 'VBN'), ('forth', 'RB'), ('on', 'IN'), ('this', 'DT'), ('continent', 'NN'), ('a', 'DT'), ('new', 'JJ'), ('nation', 'NN'), ('conceived', 'VBN'), ('in', 'IN'), ('Liberty', 'NNP'), ('and', 'CC'), ('dedicated', 'VBD'), ('to', 'TO'), ('the', 'DT'), ('proposition', 'NN'), ('that', 'IN'), ('all', 'DT'), ('men', 'NNS'), ('are', 'VBP'), ('created', 'VBN'), ('equal', 'JJ')]\n"
     ]
    }
   ],
   "source": [
    "# s = []\n",
    "for i in sushan_pre[0]:\n",
    "    if(len(i[1])>1):\n",
    "        s.append(i)\n",
    "\n",
    "print(s)"
   ]
  },
  {
   "cell_type": "code",
   "execution_count": 36,
   "metadata": {},
   "outputs": [],
   "source": [
    "# c1 = nltk.RegexpParser(grammar)\n",
    "# sushan_res = c1.parse(sushan_pre)\n",
    "# print(sushan_res)\n",
    "grammar = r\"\"\"\n",
    "  NP: {<DT|PP\\$>?<JJ>*<NN>}   # chunk determiner/possessive, adjectives and noun\n",
    "      {<NNP>+}                # chunk sequences of proper nouns\n",
    "\"\"\"\n",
    "cp = nltk.RegexpParser(grammar)"
   ]
  },
  {
   "cell_type": "code",
   "execution_count": 48,
   "metadata": {},
   "outputs": [],
   "source": [
    "res = cp.parse(s)"
   ]
  },
  {
   "cell_type": "code",
   "execution_count": 49,
   "metadata": {},
   "outputs": [
    {
     "name": "stdout",
     "output_type": "stream",
     "text": [
      "(S\n",
      "  Four/CD\n",
      "  (NP score/NN)\n",
      "  and/CC\n",
      "  seven/CD\n",
      "  years/NNS\n",
      "  ago/RB\n",
      "  our/PRP$\n",
      "  fathers/NNS\n",
      "  brought/VBN\n",
      "  forth/RB\n",
      "  on/IN\n",
      "  (NP this/DT continent/NN)\n",
      "  (NP a/DT new/JJ nation/NN)\n",
      "  conceived/VBN\n",
      "  in/IN\n",
      "  (NP Liberty/NNP)\n",
      "  and/CC\n",
      "  dedicated/VBD\n",
      "  to/TO\n",
      "  (NP the/DT proposition/NN)\n",
      "  that/IN\n",
      "  all/DT\n",
      "  men/NNS\n",
      "  are/VBP\n",
      "  created/VBN\n",
      "  equal/JJ\n",
      "  Four/CD\n",
      "  (NP score/NN)\n",
      "  and/CC\n",
      "  seven/CD\n",
      "  years/NNS\n",
      "  ago/RB\n",
      "  our/PRP$\n",
      "  fathers/NNS\n",
      "  brought/VBN\n",
      "  forth/RB\n",
      "  on/IN\n",
      "  (NP this/DT continent/NN)\n",
      "  (NP a/DT new/JJ nation/NN)\n",
      "  conceived/VBN\n",
      "  in/IN\n",
      "  (NP Liberty/NNP)\n",
      "  and/CC\n",
      "  dedicated/VBD\n",
      "  to/TO\n",
      "  (NP the/DT proposition/NN)\n",
      "  that/IN\n",
      "  all/DT\n",
      "  men/NNS\n",
      "  are/VBP\n",
      "  created/VBN\n",
      "  equal/JJ)\n"
     ]
    }
   ],
   "source": [
    "print(res)"
   ]
  },
  {
   "cell_type": "code",
   "execution_count": null,
   "metadata": {},
   "outputs": [],
   "source": [
    "res.draw()"
   ]
  },
  {
   "cell_type": "code",
   "execution_count": null,
   "metadata": {},
   "outputs": [],
   "source": []
  }
 ],
 "metadata": {
  "kernelspec": {
   "display_name": "Python 3",
   "language": "python",
   "name": "python3"
  },
  "language_info": {
   "codemirror_mode": {
    "name": "ipython",
    "version": 3
   },
   "file_extension": ".py",
   "mimetype": "text/x-python",
   "name": "python",
   "nbconvert_exporter": "python",
   "pygments_lexer": "ipython3",
   "version": "3.7.3"
  }
 },
 "nbformat": 4,
 "nbformat_minor": 2
}
